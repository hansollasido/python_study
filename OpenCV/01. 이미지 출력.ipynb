{
 "cells": [
  {
   "cell_type": "markdown",
   "id": "d141628d",
   "metadata": {},
   "source": [
    "# 환경 설정\n",
    "Anaconda Prompt 에서 다음 명령 수행\n",
    "> pip install opencv-python"
   ]
  },
  {
   "cell_type": "code",
   "execution_count": 1,
   "id": "631b9253",
   "metadata": {
    "ExecuteTime": {
     "end_time": "2022-08-15T13:00:20.917739Z",
     "start_time": "2022-08-15T13:00:20.904177Z"
    }
   },
   "outputs": [
    {
     "data": {
      "text/plain": [
       "'4.5.5'"
      ]
     },
     "execution_count": 1,
     "metadata": {},
     "output_type": "execute_result"
    }
   ],
   "source": [
    "import cv2\n",
    "cv2.__version__"
   ]
  },
  {
   "cell_type": "markdown",
   "id": "2329bab1",
   "metadata": {},
   "source": [
    "# OpenCV (Computer Vision)\n",
    "다양한 영상 (이미지) / 동영상 처리에 사용되는 오픈소스 라이브러리"
   ]
  },
  {
   "cell_type": "markdown",
   "id": "8e5ec4d4",
   "metadata": {},
   "source": [
    "## 이미지 출력"
   ]
  },
  {
   "cell_type": "code",
   "execution_count": 6,
   "id": "af2fdf9e",
   "metadata": {
    "ExecuteTime": {
     "end_time": "2022-08-15T13:05:28.028639Z",
     "start_time": "2022-08-15T13:05:22.956769Z"
    }
   },
   "outputs": [],
   "source": [
    "import cv2\n",
    "img = cv2.imread('img.jpg') # 해당 경로의 파일 읽어오기\n",
    "cv2.imshow(\"img\",img) # img 라는 이름의 창에 img를 표시\n",
    "cv2.waitKey(5000) # (ms) 지점된 시간 동안 사용자 키 입력 대기\n",
    "cv2.destroyAllWindows() # 모든 창 닫기"
   ]
  },
  {
   "cell_type": "markdown",
   "id": "36118152",
   "metadata": {},
   "source": [
    "### 읽기 옵션\n",
    "1. cv2.IMREAD_COLOR : 컬러 이미지. 투명 영역은 무시 (기본값)\n",
    "2. cv2.IMREAD_GRAYSCALE : 흑백 이미지\n",
    "3. cv2.IMREAD_UNCHANGED : 투명 영역까지 퐘"
   ]
  },
  {
   "cell_type": "code",
   "execution_count": 7,
   "id": "42fe6604",
   "metadata": {
    "ExecuteTime": {
     "end_time": "2022-08-15T13:09:20.935241Z",
     "start_time": "2022-08-15T13:08:57.622348Z"
    }
   },
   "outputs": [],
   "source": [
    "import cv2\n",
    "img_color = cv2.imread('img.jpg',cv2.IMREAD_COLOR)\n",
    "img_gray = cv2.imread('img.jpg',cv2.IMREAD_GRAYSCALE)\n",
    "img_unchanged = cv2.imread('img.jpg',cv2.IMREAD_UNCHANGED)\n",
    "\n",
    "cv2.imshow('img_color',img_color)\n",
    "cv2.imshow('img_gray',img_gray)\n",
    "cv2.imshow('img_unchanged',img_unchanged)\n",
    "\n",
    "cv2.waitKey(0)\n",
    "cv2.destroyAllWindows()"
   ]
  },
  {
   "cell_type": "markdown",
   "id": "8e47f45d",
   "metadata": {},
   "source": [
    "### shape\n",
    "이미지의 height, width, channel 정보"
   ]
  },
  {
   "cell_type": "code",
   "execution_count": 8,
   "id": "ed1c3efe",
   "metadata": {
    "ExecuteTime": {
     "end_time": "2022-08-15T13:10:04.394620Z",
     "start_time": "2022-08-15T13:10:04.371191Z"
    }
   },
   "outputs": [
    {
     "data": {
      "text/plain": [
       "(390, 640, 3)"
      ]
     },
     "execution_count": 8,
     "metadata": {},
     "output_type": "execute_result"
    }
   ],
   "source": [
    "import cv2\n",
    "img = cv2.imread('img.jpg')\n",
    "img.shape # 세로, 가로, Channel"
   ]
  }
 ],
 "metadata": {
  "kernelspec": {
   "display_name": "Python 3 (ipykernel)",
   "language": "python",
   "name": "python3"
  },
  "language_info": {
   "codemirror_mode": {
    "name": "ipython",
    "version": 3
   },
   "file_extension": ".py",
   "mimetype": "text/x-python",
   "name": "python",
   "nbconvert_exporter": "python",
   "pygments_lexer": "ipython3",
   "version": "3.9.7"
  },
  "toc": {
   "base_numbering": 1,
   "nav_menu": {},
   "number_sections": true,
   "sideBar": true,
   "skip_h1_title": false,
   "title_cell": "Table of Contents",
   "title_sidebar": "Contents",
   "toc_cell": false,
   "toc_position": {},
   "toc_section_display": true,
   "toc_window_display": false
  },
  "varInspector": {
   "cols": {
    "lenName": 16,
    "lenType": 16,
    "lenVar": 40
   },
   "kernels_config": {
    "python": {
     "delete_cmd_postfix": "",
     "delete_cmd_prefix": "del ",
     "library": "var_list.py",
     "varRefreshCmd": "print(var_dic_list())"
    },
    "r": {
     "delete_cmd_postfix": ") ",
     "delete_cmd_prefix": "rm(",
     "library": "var_list.r",
     "varRefreshCmd": "cat(var_dic_list()) "
    }
   },
   "types_to_exclude": [
    "module",
    "function",
    "builtin_function_or_method",
    "instance",
    "_Feature"
   ],
   "window_display": false
  }
 },
 "nbformat": 4,
 "nbformat_minor": 5
}
