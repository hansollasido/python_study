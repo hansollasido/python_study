{
 "cells": [
  {
   "cell_type": "markdown",
   "id": "b5c68326",
   "metadata": {},
   "source": [
    "# 이미지 변환 (팽창)"
   ]
  },
  {
   "cell_type": "markdown",
   "id": "816475c3",
   "metadata": {},
   "source": [
    "## 이미지를 확장하여 작은 구멍을 채움"
   ]
  },
  {
   "cell_type": "markdown",
   "id": "fad497b8",
   "metadata": {},
   "source": [
    "흰색 영역의 외곽 주변에 흰색을 추가"
   ]
  },
  {
   "cell_type": "markdown",
   "id": "09a95736",
   "metadata": {},
   "source": [
    "- 이는 영상신호처리 과목에서 자세히 다뤄봤으므로 다루지 않겠음"
   ]
  }
 ],
 "metadata": {
  "kernelspec": {
   "display_name": "Python 3 (ipykernel)",
   "language": "python",
   "name": "python3"
  },
  "language_info": {
   "codemirror_mode": {
    "name": "ipython",
    "version": 3
   },
   "file_extension": ".py",
   "mimetype": "text/x-python",
   "name": "python",
   "nbconvert_exporter": "python",
   "pygments_lexer": "ipython3",
   "version": "3.9.7"
  },
  "toc": {
   "base_numbering": 1,
   "nav_menu": {},
   "number_sections": true,
   "sideBar": true,
   "skip_h1_title": false,
   "title_cell": "Table of Contents",
   "title_sidebar": "Contents",
   "toc_cell": false,
   "toc_position": {},
   "toc_section_display": true,
   "toc_window_display": false
  },
  "varInspector": {
   "cols": {
    "lenName": 16,
    "lenType": 16,
    "lenVar": 40
   },
   "kernels_config": {
    "python": {
     "delete_cmd_postfix": "",
     "delete_cmd_prefix": "del ",
     "library": "var_list.py",
     "varRefreshCmd": "print(var_dic_list())"
    },
    "r": {
     "delete_cmd_postfix": ") ",
     "delete_cmd_prefix": "rm(",
     "library": "var_list.r",
     "varRefreshCmd": "cat(var_dic_list()) "
    }
   },
   "types_to_exclude": [
    "module",
    "function",
    "builtin_function_or_method",
    "instance",
    "_Feature"
   ],
   "window_display": false
  }
 },
 "nbformat": 4,
 "nbformat_minor": 5
}
