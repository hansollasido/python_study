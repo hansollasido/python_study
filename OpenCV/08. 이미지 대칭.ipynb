{
 "cells": [
  {
   "cell_type": "markdown",
   "id": "a23fa86f",
   "metadata": {},
   "source": [
    "# 8. 이미지 대칭"
   ]
  },
  {
   "cell_type": "markdown",
   "id": "6569a011",
   "metadata": {},
   "source": [
    "## 좌우 대칭"
   ]
  },
  {
   "cell_type": "code",
   "execution_count": 2,
   "id": "27d7b7bd",
   "metadata": {
    "ExecuteTime": {
     "end_time": "2022-08-16T16:57:05.924925Z",
     "start_time": "2022-08-16T16:56:52.472430Z"
    }
   },
   "outputs": [],
   "source": [
    "import cv2\n",
    "img = cv2.imread('img.jpg')\n",
    "flip_horizontal = cv2.flip(img, 1) # flipCode > 0 : 좌우 대칭 Horizontal\n",
    "\n",
    "cv2.imshow('img',img)\n",
    "cv2.imshow('flip_horizontal',flip_horizontal)\n",
    "cv2.waitKey(0)\n",
    "cv2.destroyAllWindows()"
   ]
  },
  {
   "cell_type": "markdown",
   "id": "9158601a",
   "metadata": {},
   "source": [
    "## 상하 대칭"
   ]
  },
  {
   "cell_type": "code",
   "execution_count": 3,
   "id": "d8d34b83",
   "metadata": {
    "ExecuteTime": {
     "end_time": "2022-08-16T16:58:42.241808Z",
     "start_time": "2022-08-16T16:58:40.825526Z"
    }
   },
   "outputs": [],
   "source": [
    "import cv2\n",
    "img = cv2.imread('img.jpg')\n",
    "flip_vertical = cv2.flip(img,0)  # flipCode == 0 : 상하 대칭 Vertical\n",
    "\n",
    "cv2.imshow('img', img)\n",
    "cv2.imshow('flip_vertical', flip_vertical)\n",
    "cv2.waitKey(0)\n",
    "cv2.destroyAllWindows()"
   ]
  },
  {
   "cell_type": "markdown",
   "id": "d3253997",
   "metadata": {},
   "source": [
    "## 상하좌우 대칭"
   ]
  },
  {
   "cell_type": "code",
   "execution_count": 4,
   "id": "e04aa70f",
   "metadata": {
    "ExecuteTime": {
     "end_time": "2022-08-16T16:59:37.467023Z",
     "start_time": "2022-08-16T16:59:35.601174Z"
    }
   },
   "outputs": [],
   "source": [
    "import cv2\n",
    "img = cv2.imread('img.jpg')\n",
    "flip_both = cv2.flip(img, -1)  # flipCode < 0 : 상하좌우 대칭\n",
    "\n",
    "cv2.imshow('img', img)\n",
    "cv2.imshow('flip_both', flip_both)\n",
    "cv2.waitKey(0)\n",
    "cv2.destroyAllWindows()"
   ]
  }
 ],
 "metadata": {
  "kernelspec": {
   "display_name": "Python 3 (ipykernel)",
   "language": "python",
   "name": "python3"
  },
  "language_info": {
   "codemirror_mode": {
    "name": "ipython",
    "version": 3
   },
   "file_extension": ".py",
   "mimetype": "text/x-python",
   "name": "python",
   "nbconvert_exporter": "python",
   "pygments_lexer": "ipython3",
   "version": "3.9.7"
  },
  "toc": {
   "base_numbering": 1,
   "nav_menu": {},
   "number_sections": false,
   "sideBar": true,
   "skip_h1_title": false,
   "title_cell": "Table of Contents",
   "title_sidebar": "Contents",
   "toc_cell": false,
   "toc_position": {},
   "toc_section_display": true,
   "toc_window_display": false
  },
  "varInspector": {
   "cols": {
    "lenName": 16,
    "lenType": 16,
    "lenVar": 40
   },
   "kernels_config": {
    "python": {
     "delete_cmd_postfix": "",
     "delete_cmd_prefix": "del ",
     "library": "var_list.py",
     "varRefreshCmd": "print(var_dic_list())"
    },
    "r": {
     "delete_cmd_postfix": ") ",
     "delete_cmd_prefix": "rm(",
     "library": "var_list.r",
     "varRefreshCmd": "cat(var_dic_list()) "
    }
   },
   "types_to_exclude": [
    "module",
    "function",
    "builtin_function_or_method",
    "instance",
    "_Feature"
   ],
   "window_display": false
  }
 },
 "nbformat": 4,
 "nbformat_minor": 5
}
